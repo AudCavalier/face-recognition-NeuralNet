{
 "cells": [
  {
   "cell_type": "markdown",
   "metadata": {
    "collapsed": true
   },
   "source": [
    "# Red Neuronal de reconocimento facial"
   ]
  },
  {
   "cell_type": "markdown",
   "metadata": {},
   "source": [
    "### El proyecto consiste en una red neuronal que recibe imagenes de entrada para entrenamiento (donde se indica los nombres de las personas de cada imagen) de la misma red, posteriormente se introducen imagenes de prueba, sin nombres, para que la red neuronal indique el nombre de la persona"
   ]
  },
  {
   "cell_type": "markdown",
   "metadata": {},
   "source": [
    "#### Conozcan a Riho takada:\n",
    "![title](RihoTakadaFULL.jpg)"
   ]
  },
  {
   "cell_type": "markdown",
   "metadata": {},
   "source": [
    "#### Y a Rui Kiriyama:\n",
    "![Rui](RuiKiriyamaFULL.jpg)\n",
    "(Si... un poco pervertido el asunto, pero #YOLO)"
   ]
  },
  {
   "cell_type": "markdown",
   "metadata": {},
   "source": [
    "#### Quienes serán nuestras modelos, se entrenará la red con una variedad de imagenes de ellas, incluyendo el nombre para que esta aprenda a hacer el reconocimiento facial.\n",
    "#### Por simplicidad, nos ahorramos el paso de detección facial (es decir, de una foto completa, que el algoritmo encuentre el rosto) y solamente pasaremos el rostro para hacer el entrenamiento. Si sobra tiempo, realizaremos también la detección facial\n",
    "#### Las imagenes se pasarán en un formato .png con un tamaño de 300 x 300 px\n",
    "### ACTUALIZACIÓN:\n",
    "#### Las imagenes se van a pasar en formato .png con tamaño de 30 x 30 px, inicialmente se pasará cada pixel como entrada a la red neuronal"
   ]
  },
  {
   "cell_type": "markdown",
   "metadata": {},
   "source": [
    "##### Sin más por el momento comencemos con el código, ¿si?"
   ]
  },
  {
   "cell_type": "markdown",
   "metadata": {},
   "source": [
    "###### Primero realizaremos la red (Primer objetivo propuesto)"
   ]
  },
  {
   "cell_type": "code",
   "execution_count": 183,
   "metadata": {},
   "outputs": [],
   "source": [
    "import numpy as np\n",
    "\n",
    "#La red neuronal \n",
    "#Primero hay que calcular feed-forward\n",
    "#Después hay que calcular el error\n",
    "#Ya calculado el error se realiza el back-propagation\n",
    "#Se actualizan los pesos        \n",
    "\n",
    "class neuralnet:\n",
    "    def __init__(self, inpn):\n",
    "        self.inputneurons=inpn #Numero de neuronas de entrada\n",
    "        self.outputneurons=2 #Numero de neuronas de salida, como ya sé que van a ser sólo dos, de una vez la fijo en 2\n",
    "        \n",
    "        #Iniciamos las capas ocultas como un arreglo de zeros\n",
    "        #Iniciamos los pesos\n",
    "        self.w1=np.random.randn(inpn, inpn)\n",
    "        self.w2=np.random.randn(inpn, 2)\n",
    "        \n",
    "    #Función sigmoide\n",
    "    def sigmoid(self, x, d):\n",
    "        \"\"\"\n",
    "        Función sigmoide\n",
    "        Entrada: variable flotante X (valor inicial de una neurona de la capa oculta), booleano D para definir si queremos la derivada o la función original\n",
    "        Salida: el resultado de aplicar a X la función sigmoide (o su derivada)\n",
    "        \"\"\"\n",
    "        if (d == True):\n",
    "            return x*(1-x)\n",
    "        else:\n",
    "            return 1/(1+np.exp(-x))\n",
    "    \n",
    "    #Para entrenar la red, recibe un ejemplo de entrenamiento y el número de epocas de entrenamiento deseadas, de preferencia arriba de 10000\n",
    "    #PROBAREMOS SOLO CON UNA CAPA OCULTA, AHORITA ESTA COSA TARDA AÑOS LITERAL PARA CORRER...\n",
    "    def train(self, inputarr, Y, epoch):\n",
    "        #PRIMERA PRUEBA, QUE CADA PIXEL DE LA ENTRADA SEA UNA NEURONA DE ENTRADA\n",
    "        X=inputarr.flatten().reshape(1,self.inputneurons)\n",
    "        graphvar=[]\n",
    "        for e in range(epoch):\n",
    "            #Feed-forward\n",
    "            h0 = self.sigmoid(np.dot(X, self.w1), False)\n",
    "            #h1 = self.sigmoid(np.dot(h0, self.w2), False)\n",
    "            #h2 = self.sigmoid(np.dot(h1, self.w3), False)\n",
    "            Outl = self.sigmoid(np.dot(h0, self.w2), False)\n",
    "            \n",
    "            #Calculo de error\n",
    "            error_calc= Y - Outl\n",
    "            \n",
    "            #BonitoDebug\n",
    "            #if(e%1000==0):\n",
    "            #    graphvar.append(np.mean(np.abs(error_calc)))\n",
    "            #    print(\"Error medio: \" + str(np.mean(np.abs(error_calc))))\n",
    "                \n",
    "            #Back-Propagation\n",
    "            outDelta = error_calc*self.sigmoid(Outl, True)            \n",
    "            h0err = outDelta.dot(self.w2.T)\n",
    "            h0Delta = h0err * self.sigmoid(h0, True)\n",
    "\n",
    "            #Actualización de pesos\n",
    "            self.w1+=X.T.dot(h0Delta)\n",
    "            self.w2+=h0.T.dot(outDelta)\n",
    "        \n",
    "        #Para efectos prácticos graficaremos esta babosada, a ver si está aprendiendo o no\n",
    "       # graphx=[i for i in range(len(graphvar))]\n",
    "       # plt.plot(graphx, graphvar)\n",
    "        \n",
    "    def test(self, testarr):\n",
    "        X=testarr.flatten().reshape(1,self.inputneurons)\n",
    "        l0 = self.sigmoid(np.dot(X, self.w1), False)\n",
    "        self.pred_o = self.sigmoid(np.dot(l0, self.w2), False)\n",
    "        if self.pred_o[0][0]>self.pred_o[0][1]:\n",
    "            print(\"Predicción: Rui Kiriyama\")\n",
    "        else:\n",
    "            print(\"Predicción: Takada Riho\")\n",
    "        "
   ]
  },
  {
   "cell_type": "markdown",
   "metadata": {},
   "source": [
    "###### Como hacer que Python abra imagenes sin morir en el intento"
   ]
  },
  {
   "cell_type": "code",
   "execution_count": 184,
   "metadata": {},
   "outputs": [
    {
     "data": {
      "image/png": "[encoded data removed]",
      "text/plain": [
       "<matplotlib.figure.Figure at 0x24655974748>"
      ]
     },
     "metadata": {},
     "output_type": "display_data"
    }
   ],
   "source": [
    "%matplotlib inline\n",
    "import matplotlib.pyplot as plt\n",
    "import matplotlib.image as mpimg\n",
    "\n",
    "#Lo dejamos en una función porque será más practico llenar un arreglo con los nombres de los archivos y cargarlos en automático\n",
    "#Que hacer todo \"a patita\"\n",
    "def Abrir(nom):\n",
    "    return mpimg.imread(nom)\n",
    "\n",
    "#Probemos la wea anterior\n",
    "img = Abrir('RuiFace30by30.png')\n",
    "imgplot = plt.imshow(img)"
   ]
  },
  {
   "cell_type": "code",
   "execution_count": 185,
   "metadata": {},
   "outputs": [
    {
     "data": {
      "image/png": "[encoded data removed]",
      "text/plain": [
       "<matplotlib.figure.Figure at 0x246554c0240>"
      ]
     },
     "metadata": {},
     "output_type": "display_data"
    }
   ],
   "source": [
    "img2 = Abrir('RihoFace30by30.png')\n",
    "imgplot = plt.imshow(img2)"
   ]
  },
  {
   "cell_type": "code",
   "execution_count": 186,
   "metadata": {},
   "outputs": [
    {
     "data": {
      "text/plain": [
       "\"\\ntrain1 = TrainingElem('Rui Kiriyama', 'RuiKiriyama.png')\\nimgplot = plt.imshow(train1.img)\\nplt.show()\\nprint(train1.name)\\ntrain2 = TrainingElem('Takada Riho', 'TakadaRiho.png')\\nprint(train2.name)\\nimgplot = plt.imshow(train2.img)\\n\""
      ]
     },
     "execution_count": 186,
     "metadata": {},
     "output_type": "execute_result"
    }
   ],
   "source": [
    "'''\n",
    "    Ya que vimos que si funciona esto, tenemos que asociar el nombre a cada imagen, lo ideal sería crear objetos de entrenamiento\n",
    "    donde podamos poner absolutamente TODA la información relevante de las imagenes, como nombre, características, y la misma imagen obviamente\n",
    "'''\n",
    "\n",
    "#TODO: Extraer las características \n",
    "class TrainingElem:\n",
    "    #Acá irán las demás features\n",
    "    def __init__(self, name, path):\n",
    "        self.name=name\n",
    "        self.img=Abrir(path)\n",
    "        \n",
    "\"\"\"\n",
    "train1 = TrainingElem('Rui Kiriyama', 'RuiKiriyama.png')\n",
    "imgplot = plt.imshow(train1.img)\n",
    "plt.show()\n",
    "print(train1.name)\n",
    "train2 = TrainingElem('Takada Riho', 'TakadaRiho.png')\n",
    "print(train2.name)\n",
    "imgplot = plt.imshow(train2.img)\n",
    "\"\"\"\n"
   ]
  },
  {
   "cell_type": "markdown",
   "metadata": {},
   "source": [
    "#### DE MOMENTO\n",
    "##### Hicimos que la entrada sea forzosa de 30 x 30 pixeles, para la primera prueba entrenaremos la red pasando cada pixel como valor de entrada es decir, tendremos 900 neuronas de entrad; además usaremos 3 capas ocultas, para que no sea tan simple.\n",
    "##### Como tenemos 2 modelos, sólo habrá 2 neuronas de salida: 1.- Rui Kiriyama : 2.- Riho Takada, en dado caso que la foto de la imagen correspondiera a una, se espera que la neurona de salida correspondiente tenga un 1 y la otra neurona un 0, es de aquí donde comenzaremos a corregir el error y modificar los pesos para entrenar la red"
   ]
  },
  {
   "cell_type": "code",
   "execution_count": 187,
   "metadata": {},
   "outputs": [
    {
     "ename": "KeyboardInterrupt",
     "evalue": "",
     "output_type": "error",
     "traceback": [
      "\u001b[1;31m---------------------------------------------------------------------------\u001b[0m",
      "\u001b[1;31mKeyboardInterrupt\u001b[0m                         Traceback (most recent call last)",
      "\u001b[1;32m<ipython-input-187-398974fc2cb1>\u001b[0m in \u001b[0;36m<module>\u001b[1;34m()\u001b[0m\n\u001b[0;32m      3\u001b[0m \u001b[0mred\u001b[0m\u001b[1;33m=\u001b[0m\u001b[0mneuralnet\u001b[0m\u001b[1;33m(\u001b[0m\u001b[0msize\u001b[0m\u001b[1;33m)\u001b[0m\u001b[1;33m\u001b[0m\u001b[0m\n\u001b[0;32m      4\u001b[0m \u001b[1;31m#Para la Y = Y[0] Rui Kiriyama, Y[1] = Riho Takada\u001b[0m\u001b[1;33m\u001b[0m\u001b[1;33m\u001b[0m\u001b[0m\n\u001b[1;32m----> 5\u001b[1;33m \u001b[0mred\u001b[0m\u001b[1;33m.\u001b[0m\u001b[0mtrain\u001b[0m\u001b[1;33m(\u001b[0m\u001b[0mimg\u001b[0m\u001b[1;33m[\u001b[0m\u001b[1;33m:\u001b[0m\u001b[1;33m,\u001b[0m\u001b[1;33m:\u001b[0m\u001b[1;33m,\u001b[0m\u001b[1;36m0\u001b[0m\u001b[1;33m]\u001b[0m\u001b[1;33m,\u001b[0m \u001b[1;33m[\u001b[0m\u001b[1;36m1\u001b[0m\u001b[1;33m,\u001b[0m\u001b[1;36m0\u001b[0m\u001b[1;33m]\u001b[0m\u001b[1;33m,\u001b[0m \u001b[1;36m10000\u001b[0m\u001b[1;33m)\u001b[0m\u001b[1;33m\u001b[0m\u001b[0m\n\u001b[0m\u001b[0;32m      6\u001b[0m \u001b[0mred\u001b[0m\u001b[1;33m.\u001b[0m\u001b[0mtrain\u001b[0m\u001b[1;33m(\u001b[0m\u001b[0mimg2\u001b[0m\u001b[1;33m[\u001b[0m\u001b[1;33m:\u001b[0m\u001b[1;33m,\u001b[0m\u001b[1;33m:\u001b[0m\u001b[1;33m,\u001b[0m\u001b[1;36m0\u001b[0m\u001b[1;33m]\u001b[0m\u001b[1;33m,\u001b[0m \u001b[1;33m[\u001b[0m\u001b[1;36m0\u001b[0m\u001b[1;33m,\u001b[0m\u001b[1;36m1\u001b[0m\u001b[1;33m]\u001b[0m\u001b[1;33m,\u001b[0m \u001b[1;36m10000\u001b[0m\u001b[1;33m)\u001b[0m\u001b[1;33m\u001b[0m\u001b[0m\n",
      "\u001b[1;32m<ipython-input-183-4507bbbe311f>\u001b[0m in \u001b[0;36mtrain\u001b[1;34m(self, inputarr, Y, epoch)\u001b[0m\n\u001b[0;32m     56\u001b[0m \u001b[1;33m\u001b[0m\u001b[0m\n\u001b[0;32m     57\u001b[0m             \u001b[1;31m#Actualización de pesos\u001b[0m\u001b[1;33m\u001b[0m\u001b[1;33m\u001b[0m\u001b[0m\n\u001b[1;32m---> 58\u001b[1;33m             \u001b[0mself\u001b[0m\u001b[1;33m.\u001b[0m\u001b[0mw1\u001b[0m\u001b[1;33m+=\u001b[0m\u001b[0mX\u001b[0m\u001b[1;33m.\u001b[0m\u001b[0mT\u001b[0m\u001b[1;33m.\u001b[0m\u001b[0mdot\u001b[0m\u001b[1;33m(\u001b[0m\u001b[0mh0Delta\u001b[0m\u001b[1;33m)\u001b[0m\u001b[1;33m\u001b[0m\u001b[0m\n\u001b[0m\u001b[0;32m     59\u001b[0m             \u001b[0mself\u001b[0m\u001b[1;33m.\u001b[0m\u001b[0mw2\u001b[0m\u001b[1;33m+=\u001b[0m\u001b[0mh0\u001b[0m\u001b[1;33m.\u001b[0m\u001b[0mT\u001b[0m\u001b[1;33m.\u001b[0m\u001b[0mdot\u001b[0m\u001b[1;33m(\u001b[0m\u001b[0moutDelta\u001b[0m\u001b[1;33m)\u001b[0m\u001b[1;33m\u001b[0m\u001b[0m\n\u001b[0;32m     60\u001b[0m \u001b[1;33m\u001b[0m\u001b[0m\n",
      "\u001b[1;31mKeyboardInterrupt\u001b[0m: "
     ]
    }
   ],
   "source": [
    "#Probemos un ejemplo, a ver si sirve la red neuronal\n",
    "size=img.shape[0]*img.shape[1]\n",
    "red=neuralnet(size)\n",
    "#Para la Y = Y[0] Rui Kiriyama, Y[1] = Riho Takada\n",
    "red.train(img[:,:,0], [1,0], 10000)\n",
    "red.train(img2[:,:,0], [0,1], 10000)"
   ]
  },
  {
   "cell_type": "code",
   "execution_count": 189,
   "metadata": {},
   "outputs": [
    {
     "name": "stdout",
     "output_type": "stream",
     "text": [
      "Predicción: Rui Kiriyama\n",
      "[[  9.99242656e-01   4.85979538e-18]]\n"
     ]
    },
    {
     "data": {
      "image/png": "[encoded data removed]",
      "text/plain": [
       "<matplotlib.figure.Figure at 0x24655812e80>"
      ]
     },
     "metadata": {},
     "output_type": "display_data"
    }
   ],
   "source": [
    "red.test(img[:,:,0])\n",
    "imgplot = plt.imshow(img)\n",
    "print(red.pred_o)"
   ]
  },
  {
   "cell_type": "code",
   "execution_count": null,
   "metadata": {
    "collapsed": true
   },
   "outputs": [],
   "source": []
  }
 ],
 "metadata": {
  "kernelspec": {
   "display_name": "Python 3",
   "language": "python",
   "name": "python3"
  },
  "language_info": {
   "codemirror_mode": {
    "name": "ipython",
    "version": 3
   },
   "file_extension": ".py",
   "mimetype": "text/x-python",
   "name": "python",
   "nbconvert_exporter": "python",
   "pygments_lexer": "ipython3",
   "version": "3.6.3"
  }
 },
 "nbformat": 4,
 "nbformat_minor": 2
}
