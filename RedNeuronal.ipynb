{
 "cells": [
  {
   "cell_type": "markdown",
   "metadata": {
    "collapsed": true
   },
   "source": [
    "# Red Neuronal de reconocimento facial"
   ]
  },
  {
   "cell_type": "markdown",
   "metadata": {},
   "source": [
    "### El proyecto consiste en una red neuronal que recibe imagenes de entrada para entrenamiento (donde se indica los nombres de las personas de cada imagen) de la misma red, posteriormente se introducen imagenes de prueba, sin nombres, para que la red neuronal indique el nombre de la persona\n",
    "\n",
    "#### Conozcan a Riho takada:\n",
    "![title](RihoTakadaFULL.jpg)\n",
    "\n",
    "#### Y a Rui Kiriyama:\n",
    "![Rui](RuiKiriyamaFULL.jpg)\n",
    "(Si... un poco pervertido el asunto, pero #YOLO)\n",
    "\n",
    "#### Quienes serán nuestras modelos, se entrenará la red con una variedad de imagenes de ellas, incluyendo el nombre para que esta aprenda a hacer el reconocimiento facial.\n",
    "#### Por simplicidad, nos ahorramos el paso de detección facial (es decir, de una foto completa, que el algoritmo encuentre el rosto) y solamente pasaremos el rostro para hacer el entrenamiento. Si sobra tiempo, realizaremos también la detección facial\n",
    "#### Las imagenes se pasarán en un formato .png con un tamaño de 300 x 300 px\n",
    "### ACTUALIZACIÓN:\n",
    "#### Las imagenes se van a pasar en formato .png con tamaño de 30 x 30 px, inicialmente se pasará cada pixel como entrada a la red neuronal"
   ]
  },
  {
   "cell_type": "markdown",
   "metadata": {},
   "source": [
    "# Creación de la red \n",
    "\n",
    "## (Primer objetivo propuesto)"
   ]
  },
  {
   "cell_type": "code",
   "execution_count": 25,
   "metadata": {
    "collapsed": true
   },
   "outputs": [],
   "source": [
    "import numpy as np\n",
    "\n",
    "#La red neuronal \n",
    "#Primero hay que calcular feed-forward\n",
    "#Después hay que calcular el error\n",
    "#Ya calculado el error se realiza el back-propagation\n",
    "#Se actualizan los pesos        \n",
    "\n",
    "class neuralnet:\n",
    "    def __init__(self, inpn):\n",
    "        self.inputneurons=inpn #Numero de neuronas de entrada\n",
    "        self.outputneurons=2 #Numero de neuronas de salida, como ya sé que van a ser sólo dos, de una vez la fijo en 2\n",
    "        \n",
    "        #Iniciamos las capas ocultas como un arreglo de zeros\n",
    "        #Iniciamos los pesos\n",
    "        self.w1=np.random.randn(inpn, inpn)\n",
    "        self.w2=np.random.randn(inpn, inpn)\n",
    "        self.w3=np.random.randn(inpn, inpn)\n",
    "        self.w4=np.random.randn(inpn, 2)\n",
    "        \n",
    "    #Función sigmoide\n",
    "    def sigmoid(self, x, d):\n",
    "        \"\"\"\n",
    "        Función sigmoide\n",
    "        Entrada: variable flotante X (valor inicial de una neurona de la capa oculta), booleano D para definir si queremos la derivada o la función original\n",
    "        Salida: el resultado de aplicar a X la función sigmoide (o su derivada)\n",
    "        \"\"\"\n",
    "        if (d == True):\n",
    "            return x*(1-x)\n",
    "        else:\n",
    "            return 1/(1+np.exp(-x))\n",
    "    \n",
    "    #Para entrenar la red, recibe un ejemplo de entrenamiento y el número de epocas de entrenamiento deseadas, de preferencia arriba de 10000\n",
    "    #UTILIZAREMOS 3 CAPAS OCULTAS, COMO AÚN NO EXTRAEMOS LAS CARACTERÍSTICAS DE LAS IMAGENES, ESTO SE VA A DESCONTROLAR FEO\n",
    "    def train(self, inputarr, Y, epoch):\n",
    "        #PRIMERA PRUEBA, QUE CADA PIXEL DE LA ENTRADA SEA UNA NEURONA DE ENTRADA\n",
    "        X=inputarr.flatten().reshape(1,self.inputneurons)\n",
    "        graphvar=[]\n",
    "        for e in range(epoch):\n",
    "            #Feed-forward\n",
    "            h0 = self.sigmoid(np.dot(X, self.w1), False)\n",
    "            h1 = self.sigmoid(np.dot(h0, self.w2), False)\n",
    "            h2 = self.sigmoid(np.dot(h1, self.w3), False)\n",
    "            Outl = self.sigmoid(np.dot(h2, self.w4), False)\n",
    "            \n",
    "            #Calculo de error\n",
    "            error_calc= Y - Outl\n",
    "            \n",
    "            #BonitoDebug\n",
    "            if (e%1000==0):\n",
    "                graphvar.append(np.mean(np.abs(error_calc)))\n",
    "                print(\"Error medio: \" + str(np.mean(np.abs(error_calc))))\n",
    "                \n",
    "            #Back-Propagation\n",
    "            outDelta = error_calc*self.sigmoid(Outl, True)            \n",
    "            h2err = outDelta.dot(self.w4.T)\n",
    "            h2Delta = h2err * self.sigmoid(h2, True)\n",
    "            h1err = h2Delta.dot(self.w3.T)\n",
    "            h1Delta = h1err * self.sigmoid(h1, True)\n",
    "            h0err = h1Delta.dot(self.w2.T)\n",
    "            h0Delta = h0err * self.sigmoid(h0, True)\n",
    "            \n",
    "            #Actualización de pesos\n",
    "            self.w1+=X.T.dot(h0Delta)\n",
    "            self.w2+=h0.T.dot(h1Delta)\n",
    "            self.w3+=h1.T.dot(h2Delta)\n",
    "            self.w4+=h2.T.dot(outDelta)\n",
    "        \n",
    "        #Para efectos prácticos graficaremos esta babosada, a ver si está aprendiendo o no\n",
    "        graphx=[i for i in range(len(graphvar))]\n",
    "        plt.plot(graphx, graphvar)\n",
    "        \n",
    "    def test(self, testarr):\n",
    "        X=testarr.flatten().reshape(1,self.inputneurons)\n",
    "        l0 = self.sigmoid(np.dot(X, self.w1), False)\n",
    "        l1 = self.sigmoid(np.dot(l0, self.w2), False)\n",
    "        l2 = self.sigmoid(np.dot(l1, self.w3), False)\n",
    "        self.pred_o = self.sigmoid(np.dot(l2, self.w4), False)\n",
    "        if (self.pred_o[0][0]>self.pred_o[0][1]):\n",
    "            print(\"Predicción: Rui Kiriyama\")\n",
    "        else:\n",
    "            print(\"Predicción: Takada Riho\")\n",
    "        "
   ]
  },
  {
   "cell_type": "markdown",
   "metadata": {},
   "source": [
    "###### Como hacer que Python abra imagenes sin morir en el intento"
   ]
  },
  {
   "cell_type": "code",
   "execution_count": 29,
   "metadata": {
    "collapsed": true
   },
   "outputs": [],
   "source": [
    "%matplotlib inline\n",
    "import matplotlib.pyplot as plt\n",
    "import matplotlib.image as mpimg\n",
    "\n",
    "def Abrir(imtype, nom):\n",
    "    \"\"\"\n",
    "    Función abrir: Se utiliza para abrir una imagen dado el nombre del archivo (string)\n",
    "    Entrada: imtype variable para definir si queremos abrir una imagen de entramiento (train) o de prueba (test)\n",
    "    Salida: Un objeto imagen matplotlib\n",
    "    \"\"\"\n",
    "    if (imtype=='train'):\n",
    "        prefix='TrainSamples/'\n",
    "    elif (imtype=='test'):\n",
    "        prefix='TestSamples/'\n",
    "    else:\n",
    "        print(\"Error, prefijo incorrecto: debe ser 'train' o 'test'\")\n",
    "    return mpimg.imread(prefix+nom+'.png')\n",
    "\n",
    "#Probemos la wea anterior\n",
    "#Algo flojo, pero para ya no poner las comillas sencillas\n",
    "train='train'\n",
    "test='test'\n",
    "img = Abrir(train, '001')\n",
    "img2 = Abrir(train, '101')"
   ]
  },
  {
   "cell_type": "code",
   "execution_count": 30,
   "metadata": {
    "collapsed": true
   },
   "outputs": [],
   "source": [
    "'''\n",
    "    Ya que vimos que si funciona esto, tenemos que asociar el nombre a cada imagen, lo ideal sería crear objetos de entrenamiento\n",
    "    donde podamos poner absolutamente TODA la información relevante de las imagenes, como nombre, características, y la misma imagen obviamente\n",
    "'''\n",
    "\n",
    "#TODO: Extraer las características \n",
    "class TrainingElem:\n",
    "    #Acá irán las demás features\n",
    "    def __init__(self, name, tipo, path):\n",
    "        self.name=name\n",
    "        self.img=Abrir(tipo, path)"
   ]
  },
  {
   "cell_type": "markdown",
   "metadata": {},
   "source": [
    "#### DE MOMENTO\n",
    "##### Hicimos que la entrada sea forzosa de 30 x 30 pixeles, para la primera prueba entrenaremos la red pasando cada pixel como valor de entrada es decir, tendremos 900 neuronas de entrad; además usaremos 3 capas ocultas, para que no sea tan simple.\n",
    "##### Como tenemos 2 modelos, sólo habrá 2 neuronas de salida: 1.- Rui Kiriyama : 2.- Riho Takada, en dado caso que la foto de la imagen correspondiera a una, se espera que la neurona de salida correspondiente tenga un 1 y la otra neurona un 0, es de aquí donde comenzaremos a corregir el error y modificar los pesos para entrenar la red"
   ]
  },
  {
   "cell_type": "code",
   "execution_count": 31,
   "metadata": {
    "collapsed": true
   },
   "outputs": [],
   "source": [
    "#Probemos un ejemplo, a ver si sirve la red neuronal\n",
    "#size=img.shape[0]*img.shape[1]\n",
    "#red=neuralnet(size)\n",
    "#Para la Y = Y[0] Rui Kiriyama, Y[1] = Riho Takada\n",
    "#ADVERTENCIA, COMO YA TIENE 3 CAPAS OCULTAS Y AÚN NO EXTRAEMOS CARACTERÍSTICAS DE LA IMAGEN, EL PROCESO ES MUY TARDADO\n",
    "#red.train(img[:,:,0], [1,0], 10000)\n",
    "#red.train(img2[:,:,0], [0,1], 10000)\n",
    "#red.test(img2[:,:,0])\n",
    "#imgplot = plt.imshow(img2)\n",
    "#print(red.pred_o)"
   ]
  },
  {
   "cell_type": "markdown",
   "metadata": {
    "collapsed": true
   },
   "source": [
    "# Extracción de características\n",
    "\n",
    "### (Segundo objetivo propuesto)\n",
    "\n",
    "Hasta ahorita ya cumplimos el primer objetivo (crear la red neuronal), la cuál se instancia como un objeto y cuenta con sus métodos para entrenar y para probar con simplemente pasarle una imagen, la cuál se \"rompe\" de momento en pixeles los cuáles \"alimentan\" la red neuronal como valores de entrada.\n",
    "\n",
    "Sin embargo, este método no es eficiente ni óptimo, entrenar la red neuronal con tan solo 1 ejemplo de entrenamiento tarda mucho tiempo, esto se vuelve muy torpe al querer introducir varios ejemplos de entrenamiento, además que la salida que \"predice\" no es muy acertada.\n",
    "\n",
    "Para esto (tras realizar un poco de investigación) utilizaremos \"Eigenfaces\"\n",
    "\n",
    "## Eigenfaces\n",
    "\n",
    "El concepto consiste en un conjunto de eigenvectores (vectorer característicos de una transformación lineal -> un poco de álgebra lineal), los cuales forman un conjunto base de todas las imágenes utilizadas para construir una matriz de covarianza (a su vez, estos se derivan de esta, de la distribución de probabilidad del espacio vectorial de imágenes de rostros)\n",
    "\n",
    "### Cómo generarlas\n",
    "\n",
    "Un conjunto de eigenfaces se puede generar aplicando un proceso matemático llamado \"Análisis de componente principal\" (PCA) en un conjunto de imágenes. Por ejemplo: un rostro se puede generar del \"rostro promedio\" + 10%, 55%,  -3% de las eigenfaces 1, 2 y 3 respectivamente."
   ]
  },
  {
   "cell_type": "code",
   "execution_count": null,
   "metadata": {
    "collapsed": true
   },
   "outputs": [],
   "source": []
  }
 ],
 "metadata": {
  "kernelspec": {
   "display_name": "Python 3",
   "language": "python",
   "name": "python3"
  },
  "language_info": {
   "codemirror_mode": {
    "name": "ipython",
    "version": 3
   },
   "file_extension": ".py",
   "mimetype": "text/x-python",
   "name": "python",
   "nbconvert_exporter": "python",
   "pygments_lexer": "ipython3",
   "version": "3.6.3"
  }
 },
 "nbformat": 4,
 "nbformat_minor": 2
}
