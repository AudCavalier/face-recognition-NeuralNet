{
 "cells": [
  {
   "cell_type": "markdown",
   "metadata": {
    "collapsed": true
   },
   "source": [
    "# Red Neuronal de reconocimento facial"
   ]
  },
  {
   "cell_type": "markdown",
   "metadata": {},
   "source": [
    "### El proyecto consiste en una red neuronal que recibe imagenes de entrada para entrenamiento (donde se indica los nombres de las personas de cada imagen) de la misma red, posteriormente se introducen imagenes de prueba, sin nombres, para que la red neuronal indique el nombre de la persona\n",
    "\n",
    "#### Conozcan a Riho takada:\n",
    "![title](RihoTakadaFULL.jpg)\n",
    "\n",
    "#### Y a Rui Kiriyama:\n",
    "![Rui](RuiKiriyamaFULL.jpg)\n",
    "(Si... un poco pervertido el asunto, pero #YOLO)\n",
    "\n",
    "#### Quienes serán nuestras modelos, se entrenará la red con una variedad de imagenes de ellas, incluyendo el nombre para que esta aprenda a hacer el reconocimiento facial.\n",
    "#### Por simplicidad, nos ahorramos el paso de detección facial (es decir, de una foto completa, que el algoritmo encuentre el rosto) y solamente pasaremos el rostro para hacer el entrenamiento. Si sobra tiempo, realizaremos también la detección facial\n",
    "#### Las imagenes se pasarán en un formato .png con un tamaño de 300 x 300 px\n",
    "### ACTUALIZACIÓN:\n",
    "#### Las imagenes se van a pasar en formato .png con tamaño de 30 x 30 px, inicialmente se pasará cada pixel como entrada a la red neuronal"
   ]
  },
  {
   "cell_type": "markdown",
   "metadata": {},
   "source": [
    "# Creación de la red \n",
    "\n",
    "## (Primer objetivo propuesto)"
   ]
  },
  {
   "cell_type": "code",
   "execution_count": 2,
   "metadata": {
    "collapsed": true
   },
   "outputs": [],
   "source": [
    "import numpy as np\n",
    "\n",
    "#La red neuronal \n",
    "#Primero hay que calcular feed-forward\n",
    "#Después hay que calcular el error\n",
    "#Ya calculado el error se realiza el back-propagation\n",
    "#Se actualizan los pesos        \n",
    "\n",
    "class neuralnet:\n",
    "    def __init__(self, inpn):\n",
    "        self.inputneurons=inpn #Numero de neuronas de entrada\n",
    "        self.outputneurons=2 #Numero de neuronas de salida, como ya sé que van a ser sólo dos, de una vez la fijo en 2\n",
    "        \n",
    "        #Iniciamos las capas ocultas como un arreglo de zeros\n",
    "        #Iniciamos los pesos\n",
    "        self.w1=np.random.randn(inpn, inpn)\n",
    "        self.w2=np.random.randn(inpn, inpn)\n",
    "        self.w3=np.random.randn(inpn, inpn)\n",
    "        self.w4=np.random.randn(inpn, 2)\n",
    "        \n",
    "    #Función sigmoide\n",
    "    def sigmoid(self, x, d):\n",
    "        \"\"\"\n",
    "        Función sigmoide\n",
    "        Entrada: variable flotante X (valor inicial de una neurona de la capa oculta), booleano D para definir si queremos la derivada o la función original\n",
    "        Salida: el resultado de aplicar a X la función sigmoide (o su derivada)\n",
    "        \"\"\"\n",
    "        if (d == True):\n",
    "            return x*(1-x)\n",
    "        else:\n",
    "            return 1/(1+np.exp(-x))\n",
    "    \n",
    "    #Para entrenar la red, recibe un ejemplo de entrenamiento y el número de epocas de entrenamiento deseadas, de preferencia arriba de 10000\n",
    "    #UTILIZAREMOS 3 CAPAS OCULTAS, COMO AÚN NO EXTRAEMOS LAS CARACTERÍSTICAS DE LAS IMAGENES, ESTO SE VA A DESCONTROLAR FEO\n",
    "    def train(self, inputarr, Y, epoch):\n",
    "        #PRIMERA PRUEBA, QUE CADA PIXEL DE LA ENTRADA SEA UNA NEURONA DE ENTRADA\n",
    "        X=inputarr.flatten().reshape(1,self.inputneurons)\n",
    "        graphvar=[]\n",
    "        for e in range(epoch):\n",
    "            #Feed-forward\n",
    "            h0 = self.sigmoid(np.dot(X, self.w1), False)\n",
    "            h1 = self.sigmoid(np.dot(h0, self.w2), False)\n",
    "            h2 = self.sigmoid(np.dot(h1, self.w3), False)\n",
    "            Outl = self.sigmoid(np.dot(h2, self.w4), False)\n",
    "            \n",
    "            #Calculo de error\n",
    "            error_calc= Y - Outl\n",
    "            \n",
    "            #BonitoDebug\n",
    "            if (e%1000==0):\n",
    "                graphvar.append(np.mean(np.abs(error_calc)))\n",
    "                print(\"Error medio: \" + str(np.mean(np.abs(error_calc))))\n",
    "                \n",
    "            #Back-Propagation\n",
    "            outDelta = error_calc*self.sigmoid(Outl, True)            \n",
    "            h2err = outDelta.dot(self.w4.T)\n",
    "            h2Delta = h2err * self.sigmoid(h2, True)\n",
    "            h1err = h2Delta.dot(self.w3.T)\n",
    "            h1Delta = h1err * self.sigmoid(h1, True)\n",
    "            h0err = h1Delta.dot(self.w2.T)\n",
    "            h0Delta = h0err * self.sigmoid(h0, True)\n",
    "            \n",
    "            #Actualización de pesos\n",
    "            self.w1+=X.T.dot(h0Delta)\n",
    "            self.w2+=h0.T.dot(h1Delta)\n",
    "            self.w3+=h1.T.dot(h2Delta)\n",
    "            self.w4+=h2.T.dot(outDelta)\n",
    "        \n",
    "        #Para efectos prácticos graficaremos esta babosada, a ver si está aprendiendo o no\n",
    "        graphx=[i for i in range(len(graphvar))]\n",
    "        plt.plot(graphx, graphvar)\n",
    "        \n",
    "    def test(self, testarr):\n",
    "        X=testarr.flatten().reshape(1,self.inputneurons)\n",
    "        l0 = self.sigmoid(np.dot(X, self.w1), False)\n",
    "        l1 = self.sigmoid(np.dot(l0, self.w2), False)\n",
    "        l2 = self.sigmoid(np.dot(l1, self.w3), False)\n",
    "        self.pred_o = self.sigmoid(np.dot(l2, self.w4), False)\n",
    "        if (self.pred_o[0][0]>self.pred_o[0][1]):\n",
    "            print(\"Predicción: Rui Kiriyama\")\n",
    "        else:\n",
    "            print(\"Predicción: Takada Riho\")\n",
    "        "
   ]
  },
  {
   "cell_type": "markdown",
   "metadata": {},
   "source": [
    "###### Como hacer que Python abra imagenes sin morir en el intento"
   ]
  },
  {
   "cell_type": "code",
   "execution_count": 68,
   "metadata": {},
   "outputs": [],
   "source": [
    "%matplotlib inline\n",
    "import matplotlib.pyplot as plt\n",
    "import matplotlib.image as mpimg\n",
    "\n",
    "def Abrir(imtype, nom):\n",
    "    \"\"\"\n",
    "    Función abrir: Se utiliza para abrir una imagen dado el nombre del archivo (string)\n",
    "    Entrada: imtype variable para definir si queremos abrir una imagen de entramiento (train) o de prueba (test)\n",
    "    Salida: Un objeto imagen matplotlib\n",
    "    \"\"\"\n",
    "    if (imtype=='train'):\n",
    "        prefix='TrainSamples/'\n",
    "    elif (imtype=='test'):\n",
    "        prefix='TestSamples/'\n",
    "    else:\n",
    "        print(\"Error, prefijo incorrecto: debe ser 'train' o 'test'\")\n",
    "    return mpimg.imread(prefix+nom+'.png')\n",
    "\n",
    "#Probemos la wea anterior\n",
    "#Algo flojo, pero para ya no poner las comillas sencillas\n",
    "train='train'\n",
    "test='test'"
   ]
  },
  {
   "cell_type": "code",
   "execution_count": 69,
   "metadata": {
    "collapsed": true
   },
   "outputs": [],
   "source": [
    "'''\n",
    "    Ya que vimos que si funciona esto, tenemos que asociar el nombre a cada imagen, lo ideal sería crear objetos de entrenamiento\n",
    "    donde podamos poner absolutamente TODA la información relevante de las imagenes, como nombre, características, y la misma imagen obviamente\n",
    "'''\n",
    "\n",
    "#TODO: Extraer las características \n",
    "class TrainingElem:\n",
    "    #Acá irán las demás features\n",
    "    def __init__(self, name, tipo, path):\n",
    "        self.name=name\n",
    "        self.img=Abrir(tipo, path)"
   ]
  },
  {
   "cell_type": "markdown",
   "metadata": {},
   "source": [
    "#### DE MOMENTO\n",
    "##### Hicimos que la entrada sea forzosa de 30 x 30 pixeles, para la primera prueba entrenaremos la red pasando cada pixel como valor de entrada es decir, tendremos 900 neuronas de entrad; además usaremos 3 capas ocultas, para que no sea tan simple.\n",
    "##### Como tenemos 2 modelos, sólo habrá 2 neuronas de salida: 1.- Rui Kiriyama : 2.- Riho Takada, en dado caso que la foto de la imagen correspondiera a una, se espera que la neurona de salida correspondiente tenga un 1 y la otra neurona un 0, es de aquí donde comenzaremos a corregir el error y modificar los pesos para entrenar la red"
   ]
  },
  {
   "cell_type": "code",
   "execution_count": 70,
   "metadata": {
    "collapsed": true
   },
   "outputs": [],
   "source": [
    "#Probemos un ejemplo, a ver si sirve la red neuronal\n",
    "#red=neuralnet(size)\n",
    "#Para la Y = Y[0] Rui Kiriyama, Y[1] = Riho Takada\n",
    "#ADVERTENCIA, COMO YA TIENE 3 CAPAS OCULTAS Y AÚN NO EXTRAEMOS CARACTERÍSTICAS DE LA IMAGEN, EL PROCESO ES MUY TARDADO\n",
    "#red.train(img[:,:,0], [1,0], 10000)\n",
    "#red.train(img2[:,:,0], [0,1], 10000)\n",
    "#red.test(img2[:,:,0])\n",
    "#imgplot = plt.imshow(img2)\n",
    "#print(red.pred_o)"
   ]
  },
  {
   "cell_type": "markdown",
   "metadata": {
    "collapsed": true
   },
   "source": [
    "# Extracción de características\n",
    "\n",
    "### (Segundo objetivo propuesto)\n",
    "\n",
    "Hasta ahorita ya cumplimos el primer objetivo (crear la red neuronal), la cuál se instancia como un objeto y cuenta con sus métodos para entrenar y para probar con simplemente pasarle una imagen, la cuál se \"rompe\" de momento en pixeles los cuáles \"alimentan\" la red neuronal como valores de entrada.\n",
    "\n",
    "Sin embargo, este método no es eficiente ni óptimo, entrenar la red neuronal con tan solo 1 ejemplo de entrenamiento tarda mucho tiempo, esto se vuelve muy torpe al querer introducir varios ejemplos de entrenamiento, además que la salida que \"predice\" no es muy acertada.\n",
    "\n",
    "Para esto (tras realizar un poco de investigación) utilizaremos \"Eigenfaces\"\n",
    "\n",
    "## Eigenfaces\n",
    "\n",
    "El concepto consiste en un conjunto de eigenvectores (vectorer característicos de una transformación lineal -> un poco de álgebra lineal), los cuales forman un conjunto base de todas las imágenes utilizadas para construir una matriz de covarianza (a su vez, estos se derivan de esta, de la distribución de probabilidad del espacio vectorial de imágenes de rostros)\n",
    "\n",
    "### Cómo generarlas\n",
    "\n",
    "Un conjunto de eigenfaces se puede generar aplicando un proceso matemático llamado \"Análisis de componente principal\" (PCA) en un conjunto de imágenes. Por ejemplo: un rostro se puede generar del \"rostro promedio\" + 10%, 55%,  -3% de las eigenfaces 1, 2 y 3 respectivamente.\n",
    "\n",
    "*Se suponen M imágenes de entrenamiento\n",
    "*K eigenfaces más significativas usandolas podemos satisfactoriamente aproximar una cara por lo que K < M\n",
    "*Todas las imágenes son matrices N x N, que se pueden representar como vectores N^2 x 1 dimensionales\n",
    "\n",
    "##### Dicho lo anterior el algoritmo dice:\n",
    "1.- Obtener M imágenes de entrenamiento I1, I2, ..., IM <br>\n",
    "2.- Representar cada imágen Ii como vector (G) (tal como se mencionó anteriormente)<br>\n",
    "3.- Encontrar el vector de rostro promedio Psi = 1/M * SUM(i=1, M) Gi<br>\n",
    "4.- Sustraer la \"cara media\" de cada vector Gi para obtener un conjunto de vectores Phi_i (Al hacer esto nos quedamos sólo con las características que distinguen cara cara, removiendo de una forma información común) (esto es Phi_i = Gi - Psi).<br>\n",
    "5.- Encontrar matriz de Covarianza C: C=AA^t donde A=[Phi1, Phi2, ..., PhiM].<br>\n",
    "6.- Calcular los Eigenvectores u_i de C, como C es una matriz de N^2 x N^2, debería regresar N^2 eigenvectores, cada uno siendo N^2 dimensional: Considerar la matriz (A^t)A, si encontramos los eigenvectores de esta matriz, debería regresar M eigvenvectores, cada uno de dimensión M x 1, esto lo denominaremos eigenvectores v_i.<br>\n",
    "De lo anterior se sigue que: u_i = Av_i. Esto implica que usando v_i podemos calcular los M eigenvectores más grandes de AA^t. (Recordar que M es simplemente el número de imagenes de entrenamiento).<br>\n",
    "7.- Encontrar los mejores M eigenvectores de C=AA^t usando u_i = Av_i: Teniendo en mente que ||u_i||=1.<br>\n",
    "8.- Selecionar los mejores K Eigenvectores (esto se hace heuristicamente).<br>\n",
    "\n",
    "##### Nota:\n",
    "Los eigenvectores encontrados por el algoritmo, cuando se convierten en una matriz en un proceso de reversa al paso 2, tienen una apariencia similar a la de un rostro. Como estos son eigenvectores que tienen una apariencia como de una cara, se les llaman \"Eigenfaces\". Dato curioso que encontré en un blog (del cuál saqué el algoritmo) A veces también se les llama Imágenes de fantasmas por sus apariencias SINIESTRAS y Perturbadoras: Fuente: https://onionesquereality.wordpress.com/2009/02/11/face-recognition-using-eigenfaces-and-distance-classifiers-a-tutorial/"
   ]
  },
  {
   "cell_type": "code",
   "execution_count": 73,
   "metadata": {},
   "outputs": [
    {
     "data": {
      "text/plain": [
       "<matplotlib.image.AxesImage at 0x1f308179400>"
      ]
     },
     "execution_count": 73,
     "metadata": {},
     "output_type": "execute_result"
    },
    {
     "data": {
      "image/png": "[encoded data removed]",
      "text/plain": [
       "<matplotlib.figure.Figure at 0x1f307d138d0>"
      ]
     },
     "metadata": {},
     "output_type": "display_data"
    }
   ],
   "source": [
    "from PIL import Image\n",
    "#Intentemos hacer el código para generar las eigenfaces\n",
    "def eigenface(im_vec, size):\n",
    "    \"\"\"\n",
    "    Función eigenface - Se utiliza para calcular las eigenfaces\n",
    "    Entrada: Vector de imágenes de entrenamiento (PASO 1)\n",
    "    Salida: Vector de eigenfaces\n",
    "    \"\"\"\n",
    "    G=[] #El vector de las I's\n",
    "    Phi=[] #El vector Phi, el de las características que distinguen a cada cara\n",
    "    #Primero \"Aplanamos\" todos los vectores de im_vec (PASO 2)\n",
    "    for im in im_vec:\n",
    "        g=im.flatten().reshape(1,size)\n",
    "        G.append(g)\n",
    "    #Ahorita el vector I debe ser de tamaño M\n",
    "    M=len(G)\n",
    "    #Encontramos el vector de rostro promedio (PASO 3)\n",
    "    psi=np.sum(G, axis=0)/M\n",
    "    #Sustraer la \"Cara media\" de cada vector Gi para obtener un conjunto de vectores Phi (PASO 4)\n",
    "    for g in G:\n",
    "        p=g-psi\n",
    "        Phi.append(p)\n",
    "    #Encontrar Matriz de Covarianza (Paso 5)\n",
    "    Aux=[]\n",
    "    for ph in Phi:\n",
    "        Aux.append(ph[0])\n",
    "    A=np.vstack(Phi)\n",
    "    C=np.cov(A)\n",
    "    Aux=np.array(Aux)\n",
    "    C=np.matrix(Aux.transpose())*np.matrix(Aux)\n",
    "    C/=M\n",
    "    #Calcular los Eigenvectores u de C (PASO 6)\n",
    "    L=np.matrix(Aux)*Aux.transpose()\n",
    "    #print(L.shape)\n",
    "    eig, sig, v = np.linalg.svd(Aux.transpose(), full_matrices=False)\n",
    "    #Veo que todos los algoritmos calculan aquí los pesos, hagamoslo:\n",
    "    w=np.dot(Aux, eig)\n",
    "    return [eig, w, psi]\n",
    "    \n",
    "numbers=[]\n",
    "for i in range(1, 10):\n",
    "    numbers.append('00'+str(i))\n",
    "    numbers.append('10'+str(i))\n",
    "\n",
    "for i in range(10, 16):\n",
    "    numbers.append('0'+str(i))\n",
    "    numbers.append('1'+str(i))\n",
    "\n",
    "imarr=[]\n",
    "for i in range(len(numbers)):\n",
    "    imarr.append(Abrir(train, numbers[i]))\n",
    "\n",
    "G=[]\n",
    "for i in imarr:\n",
    "    G.append(i[:,:,0])\n",
    "    \n",
    "eig, w, Med = eigenface(G, 900)\n",
    "\n",
    "efv=[]\n",
    "for i in range(len(eig[0])):\n",
    "    t=np.reshape(eig[:,i], (30,30))\n",
    "    efv.append(t)\n",
    "\n",
    "#Con lo anterior ya tenemos las eigenfaces convenientemente en un arreglo\n",
    "plt.imshow(efv[22], cmap = plt.get_cmap('gray'))"
   ]
  },
  {
   "cell_type": "markdown",
   "metadata": {},
   "source": [
    "# Volvamos a intentar entrenar la red\n",
    "Ahora que tenemos caras características, intentaremos de nuevo entrenar la red pero ahora usando las caras características\n",
    "Básicamente en este punto se podría decir que ya logramos el objetivo del programa (pongame 10 profe), pero todavía se puede refinar, lo que quiere decir que, de aquí a la fecha de entrega intentaré optimizarlo lo más que pueda (obtener correctamente las eigenfaces)\n",
    "\n",
    "### Ahora el paradigma es, cómo alimentaremos a la red neuronal con esta información (cumplimos a tiempo los primeros objetivos propuestos, pero llega este nuevo objetivo a cubrir un hueco para la siguiente semana)"
   ]
  },
  {
   "cell_type": "code",
   "execution_count": 1,
   "metadata": {},
   "outputs": [],
   "source": [
    "#Recordemos que tenemos el vector eig que contiene todas las caras características\n",
    "#size=900 #No necesitamos generalizar el caso por que ya sabemos que las caras son de 30 x 30\n",
    "#red=neuralnet(size)\n",
    "#Para la Y = Y[0] Rui Kiriyama, Y[1] = Riho Takada\n",
    "#Las imágenes para entrenar están de la siguiente manera: rui, riho, rui, riho... \n",
    "#hagamos un arreglo sencillo para pasar esta información a la red\n",
    "#answersvec=[]\n",
    "#for i in range(30):\n",
    "#    if (i%2==0):\n",
    "#        answersvec.append([1,0])\n",
    "#    else:\n",
    "#        answersvec.append([0,1])\n",
    "\n",
    "#cont=0\n",
    "#for e in eig:\n",
    "#    red.train(e, answersvec[cont], 10000)\n",
    "#    cont+=1\n",
    "#Igual esto tardará años, veamos como se porta el algoritmo"
   ]
  }
 ],
 "metadata": {
  "kernelspec": {
   "display_name": "Python 3",
   "language": "python",
   "name": "python3"
  },
  "language_info": {
   "codemirror_mode": {
    "name": "ipython",
    "version": 3
   },
   "file_extension": ".py",
   "mimetype": "text/x-python",
   "name": "python",
   "nbconvert_exporter": "python",
   "pygments_lexer": "ipython3",
   "version": "3.6.3"
  }
 },
 "nbformat": 4,
 "nbformat_minor": 2
}
